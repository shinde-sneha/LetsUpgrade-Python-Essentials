{
  "nbformat": 4,
  "nbformat_minor": 0,
  "metadata": {
    "colab": {
      "name": "Day_4_Assignment.ipynb",
      "provenance": [],
      "collapsed_sections": [],
      "toc_visible": true,
      "authorship_tag": "ABX9TyO1May7EAuy12pfjIaCH1Vo",
      "include_colab_link": true
    },
    "kernelspec": {
      "name": "python3",
      "display_name": "Python 3"
    }
  },
  "cells": [
    {
      "cell_type": "markdown",
      "metadata": {
        "id": "view-in-github",
        "colab_type": "text"
      },
      "source": [
        "<a href=\"https://colab.research.google.com/github/shinde-sneha/LetsUpgrade-Python-Essentials/blob/master/Day_4_Assignment.ipynb\" target=\"_parent\"><img src=\"https://colab.research.google.com/assets/colab-badge.svg\" alt=\"Open In Colab\"/></a>"
      ]
    },
    {
      "cell_type": "code",
      "metadata": {
        "id": "rwdd0N-ISv4i"
      },
      "source": [
        ""
      ],
      "execution_count": 58,
      "outputs": []
    },
    {
      "cell_type": "markdown",
      "metadata": {
        "id": "VEBf_l53Tx0G"
      },
      "source": [
        "#Question 1"
      ]
    },
    {
      "cell_type": "markdown",
      "metadata": {
        "id": "gYeCwoWfT4tL"
      },
      "source": [
        "####Write down a program in python for Opening a file and Writing \"I Love LetsUpgrade\" and close it, and read it back again ,and append some data to it and close it."
      ]
    },
    {
      "cell_type": "code",
      "metadata": {
        "id": "NqPhMMOPqpS0"
      },
      "source": [
        "file= open(\"Lets_Upgrade.txt\",'w')\r\n",
        "writing = file.write(\"I Love LetsUpgrade.\")\r\n",
        "file.close()\r\n",
        "\r\n"
      ],
      "execution_count": 27,
      "outputs": []
    },
    {
      "cell_type": "code",
      "metadata": {
        "id": "7tbuu_KNriEc"
      },
      "source": [
        "file= open(\"Lets_Upgrade.txt\",'r')\r\n",
        "content = file.read()\r\n",
        "file.close()"
      ],
      "execution_count": 28,
      "outputs": []
    },
    {
      "cell_type": "code",
      "metadata": {
        "colab": {
          "base_uri": "https://localhost:8080/"
        },
        "id": "0AbxCnP1r4Pi",
        "outputId": "41468741-6022-4ebf-9c56-5757df93cebc"
      },
      "source": [
        "print(content)"
      ],
      "execution_count": 29,
      "outputs": [
        {
          "output_type": "stream",
          "text": [
            "I Love LetsUpgrade\n"
          ],
          "name": "stdout"
        }
      ]
    },
    {
      "cell_type": "code",
      "metadata": {
        "id": "FVOeNVMfsuZW"
      },
      "source": [
        "file = open(\"Lets_Upgrade.txt\",'a+')\r\n",
        "x= file.write(\" and this is amazing!!!\")\r\n",
        "file.close()"
      ],
      "execution_count": 32,
      "outputs": []
    },
    {
      "cell_type": "code",
      "metadata": {
        "id": "lFPT3gzzujMR"
      },
      "source": [
        "file=open(\"Lets_Upgrade.txt\",'r')\r\n",
        "y=file.read()\r\n",
        "file.close()"
      ],
      "execution_count": 35,
      "outputs": []
    },
    {
      "cell_type": "code",
      "metadata": {
        "colab": {
          "base_uri": "https://localhost:8080/"
        },
        "id": "8PPNYr5eux1N",
        "outputId": "f7a97643-62ac-413e-9e37-444374415de6"
      },
      "source": [
        "print(y)"
      ],
      "execution_count": 37,
      "outputs": [
        {
          "output_type": "stream",
          "text": [
            "I Love LetsUpgrade  and this is amazing!!!\n"
          ],
          "name": "stdout"
        }
      ]
    },
    {
      "cell_type": "markdown",
      "metadata": {
        "id": "7gLXI5ihvOYO"
      },
      "source": [
        "#Question2\r\n"
      ]
    },
    {
      "cell_type": "markdown",
      "metadata": {
        "id": "-Ahdoc6JvTGz"
      },
      "source": [
        "####Write a function which can return a Factorial of any numbers as INT ,given in the argument."
      ]
    },
    {
      "cell_type": "code",
      "metadata": {
        "colab": {
          "base_uri": "https://localhost:8080/"
        },
        "id": "bQjGp5vdzycW",
        "outputId": "34e074e1-87e0-4925-ed02-dcc02258b82c"
      },
      "source": [
        "def fact (n):\r\n",
        "  f=1\r\n",
        "  for i in range(1,n+1):\r\n",
        "    f=f*i\r\n",
        "  return f\r\n",
        "\r\n",
        "x=int(input(\"Enter the value of x:\"))\r\n",
        "result=fact(x)\r\n",
        "print(result)"
      ],
      "execution_count": 58,
      "outputs": [
        {
          "output_type": "stream",
          "text": [
            "Enter the value of x:5\n",
            "120\n"
          ],
          "name": "stdout"
        }
      ]
    }
  ]
}