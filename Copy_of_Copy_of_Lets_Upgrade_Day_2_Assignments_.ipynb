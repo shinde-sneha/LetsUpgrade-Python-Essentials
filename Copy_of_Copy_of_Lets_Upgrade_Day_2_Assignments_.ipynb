{
  "nbformat": 4,
  "nbformat_minor": 0,
  "metadata": {
    "colab": {
      "name": "Copy of Copy of Lets Upgrade :Day 2 Assignments .ipynb",
      "provenance": [],
      "collapsed_sections": [],
      "authorship_tag": "ABX9TyPhG5cUNXSMPWcEEB+ifveZ",
      "include_colab_link": true
    },
    "kernelspec": {
      "name": "python3",
      "display_name": "Python 3"
    }
  },
  "cells": [
    {
      "cell_type": "markdown",
      "metadata": {
        "id": "view-in-github",
        "colab_type": "text"
      },
      "source": [
        "<a href=\"https://colab.research.google.com/github/shinde-sneha/LetsUpgrade-Python-Essentials/blob/master/Copy_of_Copy_of_Lets_Upgrade_Day_2_Assignments_.ipynb\" target=\"_parent\"><img src=\"https://colab.research.google.com/assets/colab-badge.svg\" alt=\"Open In Colab\"/></a>"
      ]
    },
    {
      "cell_type": "code",
      "metadata": {
        "id": "5VMnuwbQEOP0"
      },
      "source": [
        ""
      ],
      "execution_count": null,
      "outputs": []
    },
    {
      "cell_type": "markdown",
      "metadata": {
        "id": "J6PQnrasFEs5"
      },
      "source": [
        "## Assignment 1 :Day 2\r\n",
        "\r\n"
      ]
    },
    {
      "cell_type": "code",
      "metadata": {
        "id": "QIbscE6RFWY9"
      },
      "source": [
        "name =\"Sneha Shinde\"\r\n"
      ],
      "execution_count": null,
      "outputs": []
    },
    {
      "cell_type": "code",
      "metadata": {
        "colab": {
          "base_uri": "https://localhost:8080/"
        },
        "id": "wWsLDasjFoaw",
        "outputId": "d6e3172b-8aa1-4d70-88a2-5602a5e22316"
      },
      "source": [
        "name.index(\"h\")"
      ],
      "execution_count": null,
      "outputs": [
        {
          "output_type": "execute_result",
          "data": {
            "text/plain": [
              "3"
            ]
          },
          "metadata": {
            "tags": []
          },
          "execution_count": 2
        }
      ]
    },
    {
      "cell_type": "code",
      "metadata": {
        "colab": {
          "base_uri": "https://localhost:8080/",
          "height": 35
        },
        "id": "-WJ1AXIsF6nq",
        "outputId": "e21b255c-03c5-447f-cdcd-cb15565d6ace"
      },
      "source": [
        "name[4]"
      ],
      "execution_count": null,
      "outputs": [
        {
          "output_type": "execute_result",
          "data": {
            "application/vnd.google.colaboratory.intrinsic+json": {
              "type": "string"
            },
            "text/plain": [
              "'a'"
            ]
          },
          "metadata": {
            "tags": []
          },
          "execution_count": 5
        }
      ]
    },
    {
      "cell_type": "code",
      "metadata": {
        "id": "UfyP_KCZGGyh"
      },
      "source": [
        "city=\"Osmanabad\"\r\n"
      ],
      "execution_count": null,
      "outputs": []
    },
    {
      "cell_type": "code",
      "metadata": {
        "colab": {
          "base_uri": "https://localhost:8080/"
        },
        "id": "WcpIYu2uGSAl",
        "outputId": "bd36c816-c8b8-474f-cc6a-d2d6c0c932d8"
      },
      "source": [
        "a=name+\" \"+city\r\n",
        "print(a)"
      ],
      "execution_count": null,
      "outputs": [
        {
          "output_type": "stream",
          "text": [
            "Sneha Shinde Osmanabad\n"
          ],
          "name": "stdout"
        }
      ]
    },
    {
      "cell_type": "code",
      "metadata": {
        "colab": {
          "base_uri": "https://localhost:8080/"
        },
        "id": "joPw0sGbGZk-",
        "outputId": "d8364093-8ec3-4d8a-b583-6b78d88090e7"
      },
      "source": [
        "name.split()"
      ],
      "execution_count": null,
      "outputs": [
        {
          "output_type": "execute_result",
          "data": {
            "text/plain": [
              "['Sneha', 'Shinde']"
            ]
          },
          "metadata": {
            "tags": []
          },
          "execution_count": 8
        }
      ]
    },
    {
      "cell_type": "code",
      "metadata": {
        "colab": {
          "base_uri": "https://localhost:8080/"
        },
        "id": "kTG22uvhGzjW",
        "outputId": "468b3b63-e02b-4706-f616-94d82ebbe561"
      },
      "source": [
        "print(len(name))"
      ],
      "execution_count": null,
      "outputs": [
        {
          "output_type": "stream",
          "text": [
            "12\n"
          ],
          "name": "stdout"
        }
      ]
    },
    {
      "cell_type": "markdown",
      "metadata": {
        "id": "JO2XYecNJXWl"
      },
      "source": [
        "# Assignment 2:Day 2"
      ]
    },
    {
      "cell_type": "code",
      "metadata": {
        "colab": {
          "base_uri": "https://localhost:8080/",
          "height": 35
        },
        "id": "CfhAUGtnJjet",
        "outputId": "48b0e406-7229-44fa-d79f-18e98fd05cab"
      },
      "source": [
        "lst_name=['Sneha','Rushikesh','Arya','Siddhi','Pranavi','Poonam']\r\n",
        "lst_name[4]"
      ],
      "execution_count": null,
      "outputs": [
        {
          "output_type": "execute_result",
          "data": {
            "application/vnd.google.colaboratory.intrinsic+json": {
              "type": "string"
            },
            "text/plain": [
              "'Pranavi'"
            ]
          },
          "metadata": {
            "tags": []
          },
          "execution_count": 1
        }
      ]
    },
    {
      "cell_type": "code",
      "metadata": {
        "colab": {
          "base_uri": "https://localhost:8080/",
          "height": 35
        },
        "id": "sKIzHuAmKq9o",
        "outputId": "587572ea-87c5-4f3c-8797-9777e7e77196"
      },
      "source": [
        "lst_name[-3]"
      ],
      "execution_count": null,
      "outputs": [
        {
          "output_type": "execute_result",
          "data": {
            "application/vnd.google.colaboratory.intrinsic+json": {
              "type": "string"
            },
            "text/plain": [
              "'Siddhi'"
            ]
          },
          "metadata": {
            "tags": []
          },
          "execution_count": 3
        }
      ]
    },
    {
      "cell_type": "code",
      "metadata": {
        "colab": {
          "base_uri": "https://localhost:8080/",
          "height": 35
        },
        "id": "MhF3ajyCK161",
        "outputId": "1838f4b7-8398-4c81-ba74-d480c9c99307"
      },
      "source": [
        "lst_name[2][1]"
      ],
      "execution_count": null,
      "outputs": [
        {
          "output_type": "execute_result",
          "data": {
            "application/vnd.google.colaboratory.intrinsic+json": {
              "type": "string"
            },
            "text/plain": [
              "'r'"
            ]
          },
          "metadata": {
            "tags": []
          },
          "execution_count": 4
        }
      ]
    },
    {
      "cell_type": "code",
      "metadata": {
        "colab": {
          "base_uri": "https://localhost:8080/"
        },
        "id": "CMydPHcNLfdx",
        "outputId": "5817ccf3-aaf6-448e-9a2b-0663c36f0100"
      },
      "source": [
        "lst_name.append(\"Shobha\")\r\n",
        "print(lst_name)"
      ],
      "execution_count": null,
      "outputs": [
        {
          "output_type": "stream",
          "text": [
            "['Sneha', 'Rushikesh', 'Arya', 'Siddhi', 'Pranavi', 'Poonam', 'Shobha', 'Shobha']\n"
          ],
          "name": "stdout"
        }
      ]
    },
    {
      "cell_type": "code",
      "metadata": {
        "colab": {
          "base_uri": "https://localhost:8080/"
        },
        "id": "DG58hAL3MKf7",
        "outputId": "27a30d9e-771e-436a-a4ca-1249a9377ac5"
      },
      "source": [
        "lst_name.insert(2,\"Satish\")\r\n",
        "print(lst_name)"
      ],
      "execution_count": null,
      "outputs": [
        {
          "output_type": "stream",
          "text": [
            "['Sneha', 'Rushikesh', 'Satish', 'Arya', 'Siddhi', 'Pranavi', 'Poonam', 'Shobha', 'Shobha']\n"
          ],
          "name": "stdout"
        }
      ]
    },
    {
      "cell_type": "code",
      "metadata": {
        "colab": {
          "base_uri": "https://localhost:8080/"
        },
        "id": "JcseR4hmMulU",
        "outputId": "319f9862-4a8d-4362-82b1-126286b7f3bb"
      },
      "source": [
        "print(len(lst_name))"
      ],
      "execution_count": null,
      "outputs": [
        {
          "output_type": "stream",
          "text": [
            "9\n"
          ],
          "name": "stdout"
        }
      ]
    },
    {
      "cell_type": "code",
      "metadata": {
        "colab": {
          "base_uri": "https://localhost:8080/"
        },
        "id": "ckSP3ln4M94b",
        "outputId": "a6bc121c-1efd-4362-ca36-227b5b5e10f8"
      },
      "source": [
        "print(lst_name[5:])"
      ],
      "execution_count": null,
      "outputs": [
        {
          "output_type": "stream",
          "text": [
            "['Pranavi', 'Poonam', 'Shobha', 'Shobha']\n"
          ],
          "name": "stdout"
        }
      ]
    },
    {
      "cell_type": "code",
      "metadata": {
        "colab": {
          "base_uri": "https://localhost:8080/"
        },
        "id": "ud_Tf1UaNSnc",
        "outputId": "f3229322-3cb7-4a31-d7d3-2e0a036c0d04"
      },
      "source": [
        "lst_name.remove(\"Poonam\")\r\n",
        "print(lst_name)"
      ],
      "execution_count": null,
      "outputs": [
        {
          "output_type": "stream",
          "text": [
            "['Sneha', 'Rushikesh', 'Satish', 'Arya', 'Siddhi', 'Pranavi', 'Shobha', 'Shobha']\n"
          ],
          "name": "stdout"
        }
      ]
    },
    {
      "cell_type": "code",
      "metadata": {
        "colab": {
          "base_uri": "https://localhost:8080/"
        },
        "id": "9s9_rEFiNuvW",
        "outputId": "114e9152-8855-4cbe-d72f-1c72b119edbf"
      },
      "source": [
        "lst_name.sort()\r\n",
        "print(lst_name)"
      ],
      "execution_count": null,
      "outputs": [
        {
          "output_type": "stream",
          "text": [
            "['Arya', 'Pranavi', 'Rushikesh', 'Satish', 'Shobha', 'Shobha', 'Siddhi', 'Sneha']\n"
          ],
          "name": "stdout"
        }
      ]
    },
    {
      "cell_type": "code",
      "metadata": {
        "colab": {
          "base_uri": "https://localhost:8080/"
        },
        "id": "Bs7WjOihN34e",
        "outputId": "4ce5d345-8072-48de-81dd-2340fc698ec6"
      },
      "source": [
        "print(lst_name.copy())"
      ],
      "execution_count": null,
      "outputs": [
        {
          "output_type": "stream",
          "text": [
            "['Arya', 'Pranavi', 'Rushikesh', 'Satish', 'Shobha', 'Shobha', 'Siddhi', 'Sneha']\n"
          ],
          "name": "stdout"
        }
      ]
    },
    {
      "cell_type": "markdown",
      "metadata": {
        "id": "LrbVWVQUOKl0"
      },
      "source": [
        "#Assignment 3:Day 2"
      ]
    },
    {
      "cell_type": "code",
      "metadata": {
        "colab": {
          "base_uri": "https://localhost:8080/",
          "height": 35
        },
        "id": "fTN7vIa3OTRy",
        "outputId": "a5098d8d-030e-46b1-8ad1-7a7d212a1b0e"
      },
      "source": [
        "my_dict={1:\"Pink\",2:\"Blue\",3:\"Red\",4:\"White\"}\r\n",
        "my_dict.get(1)"
      ],
      "execution_count": null,
      "outputs": [
        {
          "output_type": "execute_result",
          "data": {
            "application/vnd.google.colaboratory.intrinsic+json": {
              "type": "string"
            },
            "text/plain": [
              "'Pink'"
            ]
          },
          "metadata": {
            "tags": []
          },
          "execution_count": 13
        }
      ]
    },
    {
      "cell_type": "code",
      "metadata": {
        "colab": {
          "base_uri": "https://localhost:8080/"
        },
        "id": "hjjVjXydPATX",
        "outputId": "561b0930-ac7b-45f0-952a-39addac27cab"
      },
      "source": [
        "my_dict[5]=\"Black\"\r\n",
        "print(my_dict)"
      ],
      "execution_count": null,
      "outputs": [
        {
          "output_type": "stream",
          "text": [
            "{1: 'Pink', 2: 'Blue', 3: 'Red', 4: 'White', 5: 'Black'}\n"
          ],
          "name": "stdout"
        }
      ]
    },
    {
      "cell_type": "code",
      "metadata": {
        "colab": {
          "base_uri": "https://localhost:8080/"
        },
        "id": "oZAuIK8XQG7F",
        "outputId": "133e9ea6-47bf-4b28-beb8-d9234b429200"
      },
      "source": [
        "print(my_dict.popitem())\r\n"
      ],
      "execution_count": null,
      "outputs": [
        {
          "output_type": "stream",
          "text": [
            "(5, 'Black')\n"
          ],
          "name": "stdout"
        }
      ]
    },
    {
      "cell_type": "code",
      "metadata": {
        "colab": {
          "base_uri": "https://localhost:8080/"
        },
        "id": "E-bmzLysQlog",
        "outputId": "f9c7a014-890c-4fd8-9fb3-edd40668b6af"
      },
      "source": [
        "print(1 in my_dict)"
      ],
      "execution_count": null,
      "outputs": [
        {
          "output_type": "stream",
          "text": [
            "True\n"
          ],
          "name": "stdout"
        }
      ]
    },
    {
      "cell_type": "code",
      "metadata": {
        "colab": {
          "base_uri": "https://localhost:8080/"
        },
        "id": "LXF-uut_Q0uC",
        "outputId": "9ec27a5f-1fad-478c-e852-dbde4fecdb79"
      },
      "source": [
        "print(my_dict.pop(1))"
      ],
      "execution_count": null,
      "outputs": [
        {
          "output_type": "stream",
          "text": [
            "Pink\n"
          ],
          "name": "stdout"
        }
      ]
    }
  ]
}
